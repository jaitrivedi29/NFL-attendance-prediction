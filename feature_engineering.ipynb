{
 "cells": [
  {
   "cell_type": "code",
   "execution_count": 1,
   "id": "ca106764",
   "metadata": {},
   "outputs": [],
   "source": [
    "UNKNOWN_CATEGORICAL_VALUE = 'N/A'\n",
    "OTHERS_CATEGORICAL_VALUE = 'OTHERS'"
   ]
  },
  {
   "cell_type": "code",
   "execution_count": 2,
   "id": "d996b4c5",
   "metadata": {},
   "outputs": [],
   "source": [
    "from datetime import datetime\n",
    "\n",
    "import pandas as pd"
   ]
  },
  {
   "cell_type": "code",
   "execution_count": 3,
   "id": "ba515eaa",
   "metadata": {},
   "outputs": [],
   "source": [
    "pd.set_option('display.max_rows', 500)\n",
    "pd.set_option('display.max_columns', 500)\n",
    "pd.set_option('display.width', 1000)"
   ]
  },
  {
   "cell_type": "code",
   "execution_count": 4,
   "id": "39699fa3",
   "metadata": {
    "scrolled": true
   },
   "outputs": [],
   "source": [
    "def parser(s):\n",
    "    if pd.isna(s):\n",
    "        return\n",
    "    if len(s) <= 10:\n",
    "        return datetime.strptime(s, '%Y-%m-%d')\n",
    "    return datetime.strptime(s, '%Y-%m-%d %H:%M:%S')\n"
   ]
  },
  {
   "cell_type": "code",
   "execution_count": 5,
   "id": "f812cfce",
   "metadata": {},
   "outputs": [],
   "source": [
    "columns_to_use = ['isAttended', 'UniqueID', 'acct_type_desc', 'event_name', 'event_date', 'plan_event_name', \n",
    "                  'comp_name', 'PC1', 'Price', 'paid', 'add_datetime', 'class_name', 'status', 'isHost', \n",
    "                  'SeatType', 'TicketClass', 'Term', 'TicketType', 'Season', 'Tenure', 'Resold', 'ResalePrice', \n",
    "                  'ResaleDate', 'isSTM']"
   ]
  },
  {
   "cell_type": "code",
   "execution_count": 6,
   "id": "376d2317",
   "metadata": {
    "scrolled": true
   },
   "outputs": [],
   "source": [
    "df = pd.read_csv('Cross Road Analytics Competition Dataset.csv',\n",
    "                 low_memory=False,\n",
    "                 usecols=columns_to_use,\n",
    "                 parse_dates=['event_date', 'add_datetime', 'ResaleDate'],\n",
    "                 date_parser=parser)"
   ]
  },
  {
   "cell_type": "code",
   "execution_count": 7,
   "id": "d80cc723",
   "metadata": {},
   "outputs": [
    {
     "data": {
      "text/plain": [
       "Yes    70.008066\n",
       "No     19.992214\n",
       "???     9.999720\n",
       "Name: isAttended, dtype: float64"
      ]
     },
     "execution_count": 7,
     "metadata": {},
     "output_type": "execute_result"
    }
   ],
   "source": [
    "df['isAttended'].value_counts(dropna=False, normalize=True)*100"
   ]
  },
  {
   "cell_type": "markdown",
   "id": "53169b08",
   "metadata": {},
   "source": [
    "# Feature Engineering"
   ]
  },
  {
   "cell_type": "markdown",
   "id": "e55c8778",
   "metadata": {},
   "source": [
    "## acct_type_desc"
   ]
  },
  {
   "cell_type": "code",
   "execution_count": 8,
   "id": "831c1010",
   "metadata": {},
   "outputs": [],
   "source": [
    "df['acct_type_desc'] = df['acct_type_desc'].fillna(UNKNOWN_CATEGORICAL_VALUE)"
   ]
  },
  {
   "cell_type": "code",
   "execution_count": 9,
   "id": "12fbcb67",
   "metadata": {
    "scrolled": true
   },
   "outputs": [],
   "source": [
    "# (df['acct_type_desc'].value_counts(dropna=False, normalize=True)*100).head(8).index"
   ]
  },
  {
   "cell_type": "code",
   "execution_count": 10,
   "id": "ca89f3eb",
   "metadata": {},
   "outputs": [],
   "source": [
    "condition = df['acct_type_desc'].isin(\n",
    "    ['Season', 'Club', 'House', 'N/A', 'Personal', 'Sponsor', 'Group', 'Employee']\n",
    ")\n",
    "\n",
    "df['acct_type_desc_processed'] = df['acct_type_desc']\n",
    "df.loc[~condition, 'acct_type_desc_processed'] = OTHERS_CATEGORICAL_VALUE"
   ]
  },
  {
   "cell_type": "code",
   "execution_count": 13,
   "id": "a7f2e3f0",
   "metadata": {},
   "outputs": [],
   "source": [
    "# (df['acct_type_desc_processed'].value_counts(dropna=False, normalize=True)*100)#.head(8).index"
   ]
  },
  {
   "cell_type": "markdown",
   "id": "094f5cff",
   "metadata": {},
   "source": [
    "## event_date, add_datetime, ResaleDate"
   ]
  },
  {
   "attachments": {
    "image.png": {
     "image/png": "[encoded data removed]"
    }
   },
   "cell_type": "markdown",
   "id": "48c6eadd",
   "metadata": {},
   "source": [
    "variable name\tvariable description\n",
    "event_date\tDate of Game\n",
    "add_datetime\tDate/Time of Sale\n",
    "ResaleDate\tDate the ticket was resold ![image.png](attachment:image.png)"
   ]
  },
  {
   "cell_type": "code",
   "execution_count": 14,
   "id": "2c04c7c2",
   "metadata": {},
   "outputs": [],
   "source": [
    "def get_date_diff(row, greater_date, lesser_date):\n",
    "    event_date = row[greater_date]\n",
    "    add_datetime = row[lesser_date]\n",
    "    if pd.isna(event_date) or pd.isna(add_datetime):\n",
    "        return\n",
    "    add_datetime = add_datetime.date()\n",
    "    event_date = event_date.date()\n",
    "    return (event_date - add_datetime).days\n",
    "\n",
    "\n",
    "df['event_sale_date_diff'] = df.apply(\n",
    "    lambda x: get_date_diff(x, greater_date='event_date', lesser_date='add_datetime'), axis=1)\n",
    "df['event_resale_date_diff'] = df.apply(\n",
    "    lambda x: get_date_diff(x, greater_date='event_date', lesser_date='ResaleDate'), axis=1)\n",
    "df['sale_resale_date_diff'] = df.apply(\n",
    "    lambda x: get_date_diff(x, greater_date='ResaleDate', lesser_date='add_datetime'), axis=1)\n"
   ]
  },
  {
   "cell_type": "markdown",
   "id": "c8859860",
   "metadata": {},
   "source": [
    "## plan_event_name"
   ]
  },
  {
   "cell_type": "code",
   "execution_count": 15,
   "id": "73ae4d9c",
   "metadata": {},
   "outputs": [],
   "source": [
    "df['plan_event_name'] = df['plan_event_name'].fillna(UNKNOWN_CATEGORICAL_VALUE)"
   ]
  },
  {
   "cell_type": "code",
   "execution_count": 16,
   "id": "84faa694",
   "metadata": {},
   "outputs": [],
   "source": [
    "condition = df['plan_event_name'].isin(['22FS', '21FS', 'N/A'])\n",
    "\n",
    "df['plan_event_name_processed'] = df['plan_event_name']\n",
    "df.loc[~condition, 'plan_event_name_processed'] = OTHERS_CATEGORICAL_VALUE"
   ]
  },
  {
   "cell_type": "code",
   "execution_count": 19,
   "id": "9566252f",
   "metadata": {},
   "outputs": [],
   "source": [
    "# (df['plan_event_name_processed'].value_counts(dropna=False, normalize=True)*100)"
   ]
  },
  {
   "cell_type": "markdown",
   "id": "3c21d387",
   "metadata": {},
   "source": [
    "## comp_name"
   ]
  },
  {
   "cell_type": "code",
   "execution_count": 21,
   "id": "1700842c",
   "metadata": {},
   "outputs": [],
   "source": [
    "df['comp_name'] = df['comp_name'].fillna(UNKNOWN_CATEGORICAL_VALUE)"
   ]
  },
  {
   "cell_type": "code",
   "execution_count": 24,
   "id": "39633be3",
   "metadata": {},
   "outputs": [],
   "source": [
    "condition = df['comp_name'].isin(['Not Comp', 'N/A'])\n",
    "\n",
    "df['comp_name_processed'] = df['comp_name']\n",
    "df.loc[~condition, 'comp_name_processed'] = OTHERS_CATEGORICAL_VALUE"
   ]
  },
  {
   "cell_type": "code",
   "execution_count": 27,
   "id": "85ed568f",
   "metadata": {},
   "outputs": [],
   "source": [
    "# df['comp_name_processed'].value_counts(dropna=False, normalize=True)*100"
   ]
  },
  {
   "cell_type": "markdown",
   "id": "3a46ed52",
   "metadata": {},
   "source": [
    "## Price"
   ]
  },
  {
   "cell_type": "code",
   "execution_count": 32,
   "id": "40b6235f",
   "metadata": {},
   "outputs": [
    {
     "data": {
      "text/plain": [
       "<AxesSubplot: ylabel='Frequency'>"
      ]
     },
     "execution_count": 32,
     "metadata": {},
     "output_type": "execute_result"
    },
    {
     "data": {
      "image/png": "[encoded data removed]",
      "text/plain": [
       "<Figure size 640x480 with 1 Axes>"
      ]
     },
     "metadata": {},
     "output_type": "display_data"
    }
   ],
   "source": [
    "df['Price'].plot(kind='hist')"
   ]
  },
  {
   "cell_type": "code",
   "execution_count": 33,
   "id": "8bdff594",
   "metadata": {},
   "outputs": [],
   "source": [
    "price_bins = [0, 100, 200, 300, 400, 500, float('inf')]\n",
    "df['price_bins'] = pd.cut(df['Price'],\n",
    "                          bins=price_bins,\n",
    "                          include_lowest=True,\n",
    "                          labels=['A', 'B', 'C', 'D', 'E', 'F'])"
   ]
  },
  {
   "cell_type": "markdown",
   "id": "fd0639c6",
   "metadata": {},
   "source": [
    "## Paid"
   ]
  },
  {
   "cell_type": "code",
   "execution_count": 38,
   "id": "2067e2ef",
   "metadata": {},
   "outputs": [],
   "source": [
    "df['paid'] = df['paid'].fillna(UNKNOWN_CATEGORICAL_VALUE)"
   ]
  },
  {
   "cell_type": "code",
   "execution_count": 42,
   "id": "77f85033",
   "metadata": {},
   "outputs": [
    {
     "data": {
      "text/plain": [
       "Y      107557100\n",
       "N/A     15414500\n",
       "N        5668600\n",
       "P          51400\n",
       "Name: paid, dtype: int64"
      ]
     },
     "execution_count": 42,
     "metadata": {},
     "output_type": "execute_result"
    }
   ],
   "source": [
    "df['paid'].value_counts(dropna=False, normalize=False)*100"
   ]
  },
  {
   "cell_type": "markdown",
   "id": "6c1eda60",
   "metadata": {},
   "source": [
    "## class_name"
   ]
  },
  {
   "cell_type": "code",
   "execution_count": 44,
   "id": "02e4ee39",
   "metadata": {},
   "outputs": [],
   "source": [
    "df['class_name'] = df['class_name'].fillna(UNKNOWN_CATEGORICAL_VALUE)"
   ]
  },
  {
   "cell_type": "code",
   "execution_count": 52,
   "id": "49724c81",
   "metadata": {},
   "outputs": [],
   "source": [
    "condition = df['class_name'].isin(\n",
    "    ['OPEN', 'JIM IRSAY', 'DIST-OPEN', 'ACCOUNT MANAGER', 'ACCMAN RELO', 'GROUP',\n",
    "     'VT SELL', 'EVENTS', 'DOQ-BRDCSTHOLD', 'XTEST']\n",
    ")\n",
    "\n",
    "df['class_name_processed'] = df['class_name']\n",
    "df.loc[~condition, 'class_name_processed'] = OTHERS_CATEGORICAL_VALUE"
   ]
  },
  {
   "cell_type": "code",
   "execution_count": 55,
   "id": "5fdef39e",
   "metadata": {
    "scrolled": true
   },
   "outputs": [],
   "source": [
    "# (df['class_name_processed'].value_counts(dropna=False, normalize=True)*100)"
   ]
  },
  {
   "cell_type": "markdown",
   "id": "1bfa321f",
   "metadata": {},
   "source": [
    "## TicketClass"
   ]
  },
  {
   "cell_type": "code",
   "execution_count": 57,
   "id": "cbda5347",
   "metadata": {},
   "outputs": [],
   "source": [
    "df.loc[df['TicketClass'] == 'Obstructed View', 'TicketClass'] = 'Obstruct'"
   ]
  },
  {
   "cell_type": "code",
   "execution_count": 58,
   "id": "e80ec7d0",
   "metadata": {},
   "outputs": [
    {
     "data": {
      "text/plain": [
       "Manifest    92.525542\n",
       "Infill       3.663021\n",
       "SRO          1.561640\n",
       "ADA          1.179564\n",
       "Obstruct     1.070233\n",
       "Name: TicketClass, dtype: float64"
      ]
     },
     "execution_count": 58,
     "metadata": {},
     "output_type": "execute_result"
    }
   ],
   "source": [
    "df['TicketClass'].value_counts(dropna=False, normalize=True)*100"
   ]
  },
  {
   "cell_type": "markdown",
   "id": "82b68a59",
   "metadata": {},
   "source": [
    "## TicketType"
   ]
  },
  {
   "cell_type": "code",
   "execution_count": 61,
   "id": "84c268c5",
   "metadata": {},
   "outputs": [],
   "source": [
    "condition = df['TicketType'].isin(\n",
    "    ['Renewal', 'New', 'Broker', 'Existing', 'SingleGame', 'Comp', 'Sponsor',\n",
    "     'Group', 'SingleGm Avail', 'SRO Avail']\n",
    ")\n",
    "\n",
    "df['TicketType_processed'] = df['TicketType']\n",
    "df.loc[~condition, 'TicketType_processed'] = OTHERS_CATEGORICAL_VALUE"
   ]
  },
  {
   "cell_type": "markdown",
   "id": "56fd2c1d",
   "metadata": {},
   "source": [
    "## Resold"
   ]
  },
  {
   "cell_type": "code",
   "execution_count": 69,
   "id": "d823ae98",
   "metadata": {},
   "outputs": [],
   "source": [
    "df['Resold'] = df['Resold'].fillna(UNKNOWN_CATEGORICAL_VALUE)"
   ]
  },
  {
   "cell_type": "code",
   "execution_count": 67,
   "id": "9e0d3b15",
   "metadata": {},
   "outputs": [],
   "source": [
    "df.loc[df['Resold'] == '1', 'Resold'] = 'Yes'"
   ]
  },
  {
   "cell_type": "code",
   "execution_count": 70,
   "id": "5aaea5f7",
   "metadata": {},
   "outputs": [
    {
     "data": {
      "text/plain": [
       "N/A    0.886513\n",
       "Yes    0.113487\n",
       "Name: Resold, dtype: float64"
      ]
     },
     "execution_count": 70,
     "metadata": {},
     "output_type": "execute_result"
    }
   ],
   "source": [
    "df['Resold'].value_counts(dropna=False, normalize=True)"
   ]
  },
  {
   "cell_type": "markdown",
   "id": "e5c9b1e3",
   "metadata": {},
   "source": [
    "## isSTM"
   ]
  },
  {
   "cell_type": "code",
   "execution_count": 73,
   "id": "fc38885e",
   "metadata": {},
   "outputs": [],
   "source": [
    "df['isSTM'] = df['isSTM'].fillna(0.)"
   ]
  },
  {
   "cell_type": "code",
   "execution_count": 74,
   "id": "36acbeae",
   "metadata": {},
   "outputs": [
    {
     "data": {
      "text/plain": [
       "0.0    0.699427\n",
       "1.0    0.300573\n",
       "Name: isSTM, dtype: float64"
      ]
     },
     "execution_count": 74,
     "metadata": {},
     "output_type": "execute_result"
    }
   ],
   "source": [
    "df['isSTM'].value_counts(dropna=False, normalize=True)"
   ]
  },
  {
   "cell_type": "code",
   "execution_count": 79,
   "id": "404f85c0",
   "metadata": {},
   "outputs": [],
   "source": [
    "df['isSTM'] = df['isSTM'].apply(lambda x: str(x))"
   ]
  },
  {
   "cell_type": "markdown",
   "id": "56ba2346",
   "metadata": {},
   "source": [
    "## isHost, Season"
   ]
  },
  {
   "cell_type": "code",
   "execution_count": 77,
   "id": "0d085c7e",
   "metadata": {},
   "outputs": [],
   "source": [
    "df['isHost'] = df['isHost'].apply(lambda x: str(x))"
   ]
  },
  {
   "cell_type": "code",
   "execution_count": 78,
   "id": "272db633",
   "metadata": {},
   "outputs": [],
   "source": [
    "df['Season'] = df['Season'].apply(lambda x: str(x))"
   ]
  },
  {
   "cell_type": "markdown",
   "id": "b519ef7d",
   "metadata": {},
   "source": [
    "# Feature Selection"
   ]
  },
  {
   "cell_type": "code",
   "execution_count": 75,
   "id": "c3cfa683",
   "metadata": {
    "scrolled": true
   },
   "outputs": [
    {
     "data": {
      "text/html": [
       "<div>\n",
       "<style scoped>\n",
       "    .dataframe tbody tr th:only-of-type {\n",
       "        vertical-align: middle;\n",
       "    }\n",
       "\n",
       "    .dataframe tbody tr th {\n",
       "        vertical-align: top;\n",
       "    }\n",
       "\n",
       "    .dataframe thead th {\n",
       "        text-align: right;\n",
       "    }\n",
       "</style>\n",
       "<table border=\"1\" class=\"dataframe\">\n",
       "  <thead>\n",
       "    <tr style=\"text-align: right;\">\n",
       "      <th></th>\n",
       "      <th>acct_type_desc</th>\n",
       "      <th>event_name</th>\n",
       "      <th>event_date</th>\n",
       "      <th>plan_event_name</th>\n",
       "      <th>comp_name</th>\n",
       "      <th>PC1</th>\n",
       "      <th>Price</th>\n",
       "      <th>paid</th>\n",
       "      <th>add_datetime</th>\n",
       "      <th>class_name</th>\n",
       "      <th>status</th>\n",
       "      <th>isHost</th>\n",
       "      <th>SeatType</th>\n",
       "      <th>TicketClass</th>\n",
       "      <th>Term</th>\n",
       "      <th>TicketType</th>\n",
       "      <th>Season</th>\n",
       "      <th>Tenure</th>\n",
       "      <th>UniqueID</th>\n",
       "      <th>isAttended</th>\n",
       "      <th>Resold</th>\n",
       "      <th>ResalePrice</th>\n",
       "      <th>ResaleDate</th>\n",
       "      <th>isSTM</th>\n",
       "      <th>acct_type_desc_processed</th>\n",
       "      <th>event_sale_date_diff</th>\n",
       "      <th>event_resale_date_diff</th>\n",
       "      <th>sale_resale_date_diff</th>\n",
       "      <th>plan_event_name_processed</th>\n",
       "      <th>comp_name_processed</th>\n",
       "      <th>price_bins</th>\n",
       "      <th>class_name_processed</th>\n",
       "      <th>TicketType_processed</th>\n",
       "    </tr>\n",
       "  </thead>\n",
       "  <tbody>\n",
       "    <tr>\n",
       "      <th>0</th>\n",
       "      <td>Season</td>\n",
       "      <td>CLT21HOU</td>\n",
       "      <td>2021-10-17</td>\n",
       "      <td>21FS</td>\n",
       "      <td>Not Comp</td>\n",
       "      <td>F</td>\n",
       "      <td>111.0</td>\n",
       "      <td>Y</td>\n",
       "      <td>2021-03-31 16:08:52</td>\n",
       "      <td>OPEN</td>\n",
       "      <td>SOLD</td>\n",
       "      <td>0</td>\n",
       "      <td>GA</td>\n",
       "      <td>Manifest</td>\n",
       "      <td>NaN</td>\n",
       "      <td>Renewal</td>\n",
       "      <td>2021</td>\n",
       "      <td>25.0</td>\n",
       "      <td>CLT21HOU-101-10-1</td>\n",
       "      <td>Yes</td>\n",
       "      <td>N/A</td>\n",
       "      <td>NaN</td>\n",
       "      <td>NaT</td>\n",
       "      <td>0.0</td>\n",
       "      <td>Season</td>\n",
       "      <td>200.0</td>\n",
       "      <td>NaN</td>\n",
       "      <td>NaN</td>\n",
       "      <td>21FS</td>\n",
       "      <td>Not Comp</td>\n",
       "      <td>B</td>\n",
       "      <td>OPEN</td>\n",
       "      <td>Renewal</td>\n",
       "    </tr>\n",
       "    <tr>\n",
       "      <th>1</th>\n",
       "      <td>Season</td>\n",
       "      <td>CLT21HOU</td>\n",
       "      <td>2021-10-17</td>\n",
       "      <td>21FS</td>\n",
       "      <td>Not Comp</td>\n",
       "      <td>F</td>\n",
       "      <td>111.0</td>\n",
       "      <td>Y</td>\n",
       "      <td>2021-03-31 16:08:19</td>\n",
       "      <td>OPEN</td>\n",
       "      <td>SOLD</td>\n",
       "      <td>0</td>\n",
       "      <td>GA</td>\n",
       "      <td>Manifest</td>\n",
       "      <td>NaN</td>\n",
       "      <td>Renewal</td>\n",
       "      <td>2021</td>\n",
       "      <td>20.0</td>\n",
       "      <td>CLT21HOU-101-10-10</td>\n",
       "      <td>No</td>\n",
       "      <td>N/A</td>\n",
       "      <td>NaN</td>\n",
       "      <td>NaT</td>\n",
       "      <td>0.0</td>\n",
       "      <td>Season</td>\n",
       "      <td>200.0</td>\n",
       "      <td>NaN</td>\n",
       "      <td>NaN</td>\n",
       "      <td>21FS</td>\n",
       "      <td>Not Comp</td>\n",
       "      <td>B</td>\n",
       "      <td>OPEN</td>\n",
       "      <td>Renewal</td>\n",
       "    </tr>\n",
       "    <tr>\n",
       "      <th>2</th>\n",
       "      <td>Season</td>\n",
       "      <td>CLT21HOU</td>\n",
       "      <td>2021-10-17</td>\n",
       "      <td>21FS</td>\n",
       "      <td>Not Comp</td>\n",
       "      <td>F</td>\n",
       "      <td>111.0</td>\n",
       "      <td>Y</td>\n",
       "      <td>2021-03-31 16:08:19</td>\n",
       "      <td>OPEN</td>\n",
       "      <td>SOLD</td>\n",
       "      <td>0</td>\n",
       "      <td>GA</td>\n",
       "      <td>Manifest</td>\n",
       "      <td>NaN</td>\n",
       "      <td>Renewal</td>\n",
       "      <td>2021</td>\n",
       "      <td>20.0</td>\n",
       "      <td>CLT21HOU-101-10-11</td>\n",
       "      <td>No</td>\n",
       "      <td>N/A</td>\n",
       "      <td>NaN</td>\n",
       "      <td>NaT</td>\n",
       "      <td>0.0</td>\n",
       "      <td>Season</td>\n",
       "      <td>200.0</td>\n",
       "      <td>NaN</td>\n",
       "      <td>NaN</td>\n",
       "      <td>21FS</td>\n",
       "      <td>Not Comp</td>\n",
       "      <td>B</td>\n",
       "      <td>OPEN</td>\n",
       "      <td>Renewal</td>\n",
       "    </tr>\n",
       "    <tr>\n",
       "      <th>3</th>\n",
       "      <td>Season</td>\n",
       "      <td>CLT21HOU</td>\n",
       "      <td>2021-10-17</td>\n",
       "      <td>21FS</td>\n",
       "      <td>Not Comp</td>\n",
       "      <td>F</td>\n",
       "      <td>111.0</td>\n",
       "      <td>Y</td>\n",
       "      <td>2021-03-31 16:10:20</td>\n",
       "      <td>OPEN</td>\n",
       "      <td>SOLD</td>\n",
       "      <td>0</td>\n",
       "      <td>GA</td>\n",
       "      <td>Manifest</td>\n",
       "      <td>NaN</td>\n",
       "      <td>Renewal</td>\n",
       "      <td>2021</td>\n",
       "      <td>4.0</td>\n",
       "      <td>CLT21HOU-101-10-12</td>\n",
       "      <td>Yes</td>\n",
       "      <td>N/A</td>\n",
       "      <td>NaN</td>\n",
       "      <td>NaT</td>\n",
       "      <td>0.0</td>\n",
       "      <td>Season</td>\n",
       "      <td>200.0</td>\n",
       "      <td>NaN</td>\n",
       "      <td>NaN</td>\n",
       "      <td>21FS</td>\n",
       "      <td>Not Comp</td>\n",
       "      <td>B</td>\n",
       "      <td>OPEN</td>\n",
       "      <td>Renewal</td>\n",
       "    </tr>\n",
       "    <tr>\n",
       "      <th>4</th>\n",
       "      <td>Season</td>\n",
       "      <td>CLT21HOU</td>\n",
       "      <td>2021-10-17</td>\n",
       "      <td>21FS</td>\n",
       "      <td>Not Comp</td>\n",
       "      <td>F</td>\n",
       "      <td>111.0</td>\n",
       "      <td>Y</td>\n",
       "      <td>2021-03-31 16:08:21</td>\n",
       "      <td>OPEN</td>\n",
       "      <td>SOLD</td>\n",
       "      <td>0</td>\n",
       "      <td>GA</td>\n",
       "      <td>Manifest</td>\n",
       "      <td>NaN</td>\n",
       "      <td>Renewal</td>\n",
       "      <td>2021</td>\n",
       "      <td>32.0</td>\n",
       "      <td>CLT21HOU-101-10-13</td>\n",
       "      <td>No</td>\n",
       "      <td>N/A</td>\n",
       "      <td>NaN</td>\n",
       "      <td>NaT</td>\n",
       "      <td>0.0</td>\n",
       "      <td>Season</td>\n",
       "      <td>200.0</td>\n",
       "      <td>NaN</td>\n",
       "      <td>NaN</td>\n",
       "      <td>21FS</td>\n",
       "      <td>Not Comp</td>\n",
       "      <td>B</td>\n",
       "      <td>OPEN</td>\n",
       "      <td>Renewal</td>\n",
       "    </tr>\n",
       "  </tbody>\n",
       "</table>\n",
       "</div>"
      ],
      "text/plain": [
       "  acct_type_desc event_name event_date plan_event_name comp_name PC1  Price paid        add_datetime class_name status  isHost SeatType TicketClass  Term TicketType  Season  Tenure            UniqueID isAttended Resold  ResalePrice ResaleDate  isSTM acct_type_desc_processed  event_sale_date_diff  event_resale_date_diff  sale_resale_date_diff plan_event_name_processed comp_name_processed price_bins class_name_processed TicketType_processed\n",
       "0         Season   CLT21HOU 2021-10-17            21FS  Not Comp   F  111.0    Y 2021-03-31 16:08:52       OPEN   SOLD       0       GA    Manifest   NaN    Renewal    2021    25.0   CLT21HOU-101-10-1        Yes    N/A          NaN        NaT    0.0                   Season                 200.0                     NaN                    NaN                      21FS            Not Comp          B                 OPEN              Renewal\n",
       "1         Season   CLT21HOU 2021-10-17            21FS  Not Comp   F  111.0    Y 2021-03-31 16:08:19       OPEN   SOLD       0       GA    Manifest   NaN    Renewal    2021    20.0  CLT21HOU-101-10-10         No    N/A          NaN        NaT    0.0                   Season                 200.0                     NaN                    NaN                      21FS            Not Comp          B                 OPEN              Renewal\n",
       "2         Season   CLT21HOU 2021-10-17            21FS  Not Comp   F  111.0    Y 2021-03-31 16:08:19       OPEN   SOLD       0       GA    Manifest   NaN    Renewal    2021    20.0  CLT21HOU-101-10-11         No    N/A          NaN        NaT    0.0                   Season                 200.0                     NaN                    NaN                      21FS            Not Comp          B                 OPEN              Renewal\n",
       "3         Season   CLT21HOU 2021-10-17            21FS  Not Comp   F  111.0    Y 2021-03-31 16:10:20       OPEN   SOLD       0       GA    Manifest   NaN    Renewal    2021     4.0  CLT21HOU-101-10-12        Yes    N/A          NaN        NaT    0.0                   Season                 200.0                     NaN                    NaN                      21FS            Not Comp          B                 OPEN              Renewal\n",
       "4         Season   CLT21HOU 2021-10-17            21FS  Not Comp   F  111.0    Y 2021-03-31 16:08:21       OPEN   SOLD       0       GA    Manifest   NaN    Renewal    2021    32.0  CLT21HOU-101-10-13         No    N/A          NaN        NaT    0.0                   Season                 200.0                     NaN                    NaN                      21FS            Not Comp          B                 OPEN              Renewal"
      ]
     },
     "execution_count": 75,
     "metadata": {},
     "output_type": "execute_result"
    }
   ],
   "source": [
    "df.head()"
   ]
  },
  {
   "cell_type": "code",
   "execution_count": 80,
   "id": "3723e156",
   "metadata": {},
   "outputs": [],
   "source": [
    "selected_columns = ['UniqueID', 'isAttended','event_name', 'PC1', 'Price', 'paid', 'status', 'isHost', \n",
    "                    'SeatType', 'TicketClass', 'Term', 'Season', 'Tenure', \n",
    "                    'Resold', 'ResalePrice', 'isSTM', 'acct_type_desc_processed',\n",
    "                    'event_sale_date_diff', 'event_resale_date_diff', 'sale_resale_date_diff',\n",
    "                    'plan_event_name_processed', 'comp_name_processed', 'class_name_processed', \n",
    "                    'TicketType_processed']"
   ]
  },
  {
   "cell_type": "code",
   "execution_count": 82,
   "id": "3bdf4e3e",
   "metadata": {
    "scrolled": true
   },
   "outputs": [
    {
     "data": {
      "text/html": [
       "<div>\n",
       "<style scoped>\n",
       "    .dataframe tbody tr th:only-of-type {\n",
       "        vertical-align: middle;\n",
       "    }\n",
       "\n",
       "    .dataframe tbody tr th {\n",
       "        vertical-align: top;\n",
       "    }\n",
       "\n",
       "    .dataframe thead th {\n",
       "        text-align: right;\n",
       "    }\n",
       "</style>\n",
       "<table border=\"1\" class=\"dataframe\">\n",
       "  <thead>\n",
       "    <tr style=\"text-align: right;\">\n",
       "      <th></th>\n",
       "      <th>UniqueID</th>\n",
       "      <th>isAttended</th>\n",
       "      <th>event_name</th>\n",
       "      <th>PC1</th>\n",
       "      <th>Price</th>\n",
       "      <th>paid</th>\n",
       "      <th>status</th>\n",
       "      <th>isHost</th>\n",
       "      <th>SeatType</th>\n",
       "      <th>TicketClass</th>\n",
       "      <th>Term</th>\n",
       "      <th>Season</th>\n",
       "      <th>Tenure</th>\n",
       "      <th>Resold</th>\n",
       "      <th>ResalePrice</th>\n",
       "      <th>isSTM</th>\n",
       "      <th>acct_type_desc_processed</th>\n",
       "      <th>event_sale_date_diff</th>\n",
       "      <th>event_resale_date_diff</th>\n",
       "      <th>sale_resale_date_diff</th>\n",
       "      <th>plan_event_name_processed</th>\n",
       "      <th>comp_name_processed</th>\n",
       "      <th>class_name_processed</th>\n",
       "      <th>TicketType_processed</th>\n",
       "    </tr>\n",
       "  </thead>\n",
       "  <tbody>\n",
       "    <tr>\n",
       "      <th>901573</th>\n",
       "      <td>CLT22PHI-101-SR1-30</td>\n",
       "      <td>No</td>\n",
       "      <td>CLT22PHI</td>\n",
       "      <td>W</td>\n",
       "      <td>37.0</td>\n",
       "      <td>N/A</td>\n",
       "      <td>AVAIL</td>\n",
       "      <td>0</td>\n",
       "      <td>GA</td>\n",
       "      <td>SRO</td>\n",
       "      <td>NaN</td>\n",
       "      <td>2022</td>\n",
       "      <td>NaN</td>\n",
       "      <td>N/A</td>\n",
       "      <td>NaN</td>\n",
       "      <td>0.0</td>\n",
       "      <td>N/A</td>\n",
       "      <td>NaN</td>\n",
       "      <td>NaN</td>\n",
       "      <td>NaN</td>\n",
       "      <td>N/A</td>\n",
       "      <td>N/A</td>\n",
       "      <td>OTHERS</td>\n",
       "      <td>OTHERS</td>\n",
       "    </tr>\n",
       "    <tr>\n",
       "      <th>1102520</th>\n",
       "      <td>CLT22PR2-125-12-15</td>\n",
       "      <td>Yes</td>\n",
       "      <td>CLT22PR2</td>\n",
       "      <td>F</td>\n",
       "      <td>70.0</td>\n",
       "      <td>Y</td>\n",
       "      <td>SOLD</td>\n",
       "      <td>0</td>\n",
       "      <td>GA</td>\n",
       "      <td>Manifest</td>\n",
       "      <td>NaN</td>\n",
       "      <td>2022</td>\n",
       "      <td>37.0</td>\n",
       "      <td>N/A</td>\n",
       "      <td>NaN</td>\n",
       "      <td>1.0</td>\n",
       "      <td>Season</td>\n",
       "      <td>262.0</td>\n",
       "      <td>NaN</td>\n",
       "      <td>NaN</td>\n",
       "      <td>22FS</td>\n",
       "      <td>Not Comp</td>\n",
       "      <td>OPEN</td>\n",
       "      <td>Renewal</td>\n",
       "    </tr>\n",
       "    <tr>\n",
       "      <th>185846</th>\n",
       "      <td>CLT21LAR-629-16-4</td>\n",
       "      <td>Yes</td>\n",
       "      <td>CLT21LAR</td>\n",
       "      <td>T</td>\n",
       "      <td>53.0</td>\n",
       "      <td>Y</td>\n",
       "      <td>SOLD</td>\n",
       "      <td>0</td>\n",
       "      <td>GA</td>\n",
       "      <td>Manifest</td>\n",
       "      <td>NaN</td>\n",
       "      <td>2021</td>\n",
       "      <td>2.0</td>\n",
       "      <td>N/A</td>\n",
       "      <td>NaN</td>\n",
       "      <td>0.0</td>\n",
       "      <td>Personal</td>\n",
       "      <td>2.0</td>\n",
       "      <td>NaN</td>\n",
       "      <td>NaN</td>\n",
       "      <td>N/A</td>\n",
       "      <td>Not Comp</td>\n",
       "      <td>OTHERS</td>\n",
       "      <td>Group</td>\n",
       "    </tr>\n",
       "    <tr>\n",
       "      <th>298939</th>\n",
       "      <td>CLT21NE-451-19-22</td>\n",
       "      <td>Yes</td>\n",
       "      <td>CLT21NE</td>\n",
       "      <td>N</td>\n",
       "      <td>118.0</td>\n",
       "      <td>N/A</td>\n",
       "      <td>SOLD</td>\n",
       "      <td>1</td>\n",
       "      <td>GA</td>\n",
       "      <td>Manifest</td>\n",
       "      <td>NaN</td>\n",
       "      <td>2021</td>\n",
       "      <td>1.0</td>\n",
       "      <td>N/A</td>\n",
       "      <td>NaN</td>\n",
       "      <td>0.0</td>\n",
       "      <td>Personal</td>\n",
       "      <td>7.0</td>\n",
       "      <td>NaN</td>\n",
       "      <td>NaN</td>\n",
       "      <td>N/A</td>\n",
       "      <td>Not Comp</td>\n",
       "      <td>DIST-OPEN</td>\n",
       "      <td>SingleGame</td>\n",
       "    </tr>\n",
       "    <tr>\n",
       "      <th>1245294</th>\n",
       "      <td>CLT22WAS-227-13-9</td>\n",
       "      <td>Yes</td>\n",
       "      <td>CLT22WAS</td>\n",
       "      <td>G</td>\n",
       "      <td>107.0</td>\n",
       "      <td>Y</td>\n",
       "      <td>SOLD</td>\n",
       "      <td>0</td>\n",
       "      <td>GA</td>\n",
       "      <td>Manifest</td>\n",
       "      <td>NaN</td>\n",
       "      <td>2022</td>\n",
       "      <td>8.0</td>\n",
       "      <td>N/A</td>\n",
       "      <td>NaN</td>\n",
       "      <td>1.0</td>\n",
       "      <td>Season</td>\n",
       "      <td>193.0</td>\n",
       "      <td>NaN</td>\n",
       "      <td>NaN</td>\n",
       "      <td>22FS</td>\n",
       "      <td>Not Comp</td>\n",
       "      <td>ACCMAN RELO</td>\n",
       "      <td>Renewal</td>\n",
       "    </tr>\n",
       "    <tr>\n",
       "      <th>1233949</th>\n",
       "      <td>CLT22WAS-136-3-10</td>\n",
       "      <td>Yes</td>\n",
       "      <td>CLT22WAS</td>\n",
       "      <td>B</td>\n",
       "      <td>161.0</td>\n",
       "      <td>Y</td>\n",
       "      <td>SOLD</td>\n",
       "      <td>0</td>\n",
       "      <td>GA</td>\n",
       "      <td>Manifest</td>\n",
       "      <td>NaN</td>\n",
       "      <td>2022</td>\n",
       "      <td>3.0</td>\n",
       "      <td>N/A</td>\n",
       "      <td>NaN</td>\n",
       "      <td>1.0</td>\n",
       "      <td>Season</td>\n",
       "      <td>356.0</td>\n",
       "      <td>NaN</td>\n",
       "      <td>NaN</td>\n",
       "      <td>22FS</td>\n",
       "      <td>Not Comp</td>\n",
       "      <td>OPEN</td>\n",
       "      <td>Renewal</td>\n",
       "    </tr>\n",
       "    <tr>\n",
       "      <th>80022</th>\n",
       "      <td>CLT21JAX-148-17-11</td>\n",
       "      <td>Yes</td>\n",
       "      <td>CLT21JAX</td>\n",
       "      <td>F</td>\n",
       "      <td>111.0</td>\n",
       "      <td>Y</td>\n",
       "      <td>SOLD</td>\n",
       "      <td>0</td>\n",
       "      <td>GA</td>\n",
       "      <td>Manifest</td>\n",
       "      <td>NaN</td>\n",
       "      <td>2021</td>\n",
       "      <td>1.0</td>\n",
       "      <td>N/A</td>\n",
       "      <td>NaN</td>\n",
       "      <td>0.0</td>\n",
       "      <td>Season</td>\n",
       "      <td>165.0</td>\n",
       "      <td>NaN</td>\n",
       "      <td>NaN</td>\n",
       "      <td>21FS</td>\n",
       "      <td>Not Comp</td>\n",
       "      <td>ACCOUNT MANAGER</td>\n",
       "      <td>New</td>\n",
       "    </tr>\n",
       "    <tr>\n",
       "      <th>1169684</th>\n",
       "      <td>CLT22TEN-136-6-19</td>\n",
       "      <td>Yes</td>\n",
       "      <td>CLT22TEN</td>\n",
       "      <td>B</td>\n",
       "      <td>179.0</td>\n",
       "      <td>Y</td>\n",
       "      <td>SOLD</td>\n",
       "      <td>0</td>\n",
       "      <td>GA</td>\n",
       "      <td>Manifest</td>\n",
       "      <td>NaN</td>\n",
       "      <td>2022</td>\n",
       "      <td>4.0</td>\n",
       "      <td>N/A</td>\n",
       "      <td>NaN</td>\n",
       "      <td>1.0</td>\n",
       "      <td>Season</td>\n",
       "      <td>293.0</td>\n",
       "      <td>NaN</td>\n",
       "      <td>NaN</td>\n",
       "      <td>22FS</td>\n",
       "      <td>Not Comp</td>\n",
       "      <td>OPEN</td>\n",
       "      <td>Renewal</td>\n",
       "    </tr>\n",
       "    <tr>\n",
       "      <th>993700</th>\n",
       "      <td>CLT22PIT-320-2-5</td>\n",
       "      <td>Yes</td>\n",
       "      <td>CLT22PIT</td>\n",
       "      <td>I</td>\n",
       "      <td>124.0</td>\n",
       "      <td>Y</td>\n",
       "      <td>SOLD</td>\n",
       "      <td>0</td>\n",
       "      <td>GA</td>\n",
       "      <td>Manifest</td>\n",
       "      <td>NaN</td>\n",
       "      <td>2022</td>\n",
       "      <td>13.0</td>\n",
       "      <td>N/A</td>\n",
       "      <td>NaN</td>\n",
       "      <td>1.0</td>\n",
       "      <td>Season</td>\n",
       "      <td>332.0</td>\n",
       "      <td>NaN</td>\n",
       "      <td>NaN</td>\n",
       "      <td>22FS</td>\n",
       "      <td>Not Comp</td>\n",
       "      <td>OPEN</td>\n",
       "      <td>Renewal</td>\n",
       "    </tr>\n",
       "    <tr>\n",
       "      <th>1068648</th>\n",
       "      <td>CLT22PR1-439-8-4</td>\n",
       "      <td>Yes</td>\n",
       "      <td>CLT22PR1</td>\n",
       "      <td>8</td>\n",
       "      <td>169.0</td>\n",
       "      <td>Y</td>\n",
       "      <td>SOLD</td>\n",
       "      <td>0</td>\n",
       "      <td>Club</td>\n",
       "      <td>Manifest</td>\n",
       "      <td>3.0</td>\n",
       "      <td>2022</td>\n",
       "      <td>0.0</td>\n",
       "      <td>N/A</td>\n",
       "      <td>NaN</td>\n",
       "      <td>0.0</td>\n",
       "      <td>Club</td>\n",
       "      <td>187.0</td>\n",
       "      <td>NaN</td>\n",
       "      <td>NaN</td>\n",
       "      <td>22FS</td>\n",
       "      <td>Not Comp</td>\n",
       "      <td>OTHERS</td>\n",
       "      <td>New</td>\n",
       "    </tr>\n",
       "  </tbody>\n",
       "</table>\n",
       "</div>"
      ],
      "text/plain": [
       "                    UniqueID isAttended event_name PC1  Price paid status isHost SeatType TicketClass  Term Season  Tenure Resold  ResalePrice isSTM acct_type_desc_processed  event_sale_date_diff  event_resale_date_diff  sale_resale_date_diff plan_event_name_processed comp_name_processed class_name_processed TicketType_processed\n",
       "901573   CLT22PHI-101-SR1-30         No   CLT22PHI   W   37.0  N/A  AVAIL      0       GA         SRO   NaN   2022     NaN    N/A          NaN   0.0                      N/A                   NaN                     NaN                    NaN                       N/A                 N/A               OTHERS               OTHERS\n",
       "1102520   CLT22PR2-125-12-15        Yes   CLT22PR2   F   70.0    Y   SOLD      0       GA    Manifest   NaN   2022    37.0    N/A          NaN   1.0                   Season                 262.0                     NaN                    NaN                      22FS            Not Comp                 OPEN              Renewal\n",
       "185846     CLT21LAR-629-16-4        Yes   CLT21LAR   T   53.0    Y   SOLD      0       GA    Manifest   NaN   2021     2.0    N/A          NaN   0.0                 Personal                   2.0                     NaN                    NaN                       N/A            Not Comp               OTHERS                Group\n",
       "298939     CLT21NE-451-19-22        Yes    CLT21NE   N  118.0  N/A   SOLD      1       GA    Manifest   NaN   2021     1.0    N/A          NaN   0.0                 Personal                   7.0                     NaN                    NaN                       N/A            Not Comp            DIST-OPEN           SingleGame\n",
       "1245294    CLT22WAS-227-13-9        Yes   CLT22WAS   G  107.0    Y   SOLD      0       GA    Manifest   NaN   2022     8.0    N/A          NaN   1.0                   Season                 193.0                     NaN                    NaN                      22FS            Not Comp          ACCMAN RELO              Renewal\n",
       "1233949    CLT22WAS-136-3-10        Yes   CLT22WAS   B  161.0    Y   SOLD      0       GA    Manifest   NaN   2022     3.0    N/A          NaN   1.0                   Season                 356.0                     NaN                    NaN                      22FS            Not Comp                 OPEN              Renewal\n",
       "80022     CLT21JAX-148-17-11        Yes   CLT21JAX   F  111.0    Y   SOLD      0       GA    Manifest   NaN   2021     1.0    N/A          NaN   0.0                   Season                 165.0                     NaN                    NaN                      21FS            Not Comp      ACCOUNT MANAGER                  New\n",
       "1169684    CLT22TEN-136-6-19        Yes   CLT22TEN   B  179.0    Y   SOLD      0       GA    Manifest   NaN   2022     4.0    N/A          NaN   1.0                   Season                 293.0                     NaN                    NaN                      22FS            Not Comp                 OPEN              Renewal\n",
       "993700      CLT22PIT-320-2-5        Yes   CLT22PIT   I  124.0    Y   SOLD      0       GA    Manifest   NaN   2022    13.0    N/A          NaN   1.0                   Season                 332.0                     NaN                    NaN                      22FS            Not Comp                 OPEN              Renewal\n",
       "1068648     CLT22PR1-439-8-4        Yes   CLT22PR1   8  169.0    Y   SOLD      0     Club    Manifest   3.0   2022     0.0    N/A          NaN   0.0                     Club                 187.0                     NaN                    NaN                      22FS            Not Comp               OTHERS                  New"
      ]
     },
     "execution_count": 82,
     "metadata": {},
     "output_type": "execute_result"
    }
   ],
   "source": [
    "df[selected_columns].sample(10)"
   ]
  },
  {
   "cell_type": "code",
   "execution_count": 83,
   "id": "adc66834",
   "metadata": {},
   "outputs": [
    {
     "data": {
      "text/plain": [
       "UniqueID                      object\n",
       "isAttended                    object\n",
       "event_name                    object\n",
       "PC1                           object\n",
       "Price                        float64\n",
       "paid                          object\n",
       "status                        object\n",
       "isHost                        object\n",
       "SeatType                      object\n",
       "TicketClass                   object\n",
       "Term                         float64\n",
       "Season                        object\n",
       "Tenure                       float64\n",
       "Resold                        object\n",
       "ResalePrice                  float64\n",
       "isSTM                         object\n",
       "acct_type_desc_processed      object\n",
       "event_sale_date_diff         float64\n",
       "event_resale_date_diff       float64\n",
       "sale_resale_date_diff        float64\n",
       "plan_event_name_processed     object\n",
       "comp_name_processed           object\n",
       "class_name_processed          object\n",
       "TicketType_processed          object\n",
       "dtype: object"
      ]
     },
     "execution_count": 83,
     "metadata": {},
     "output_type": "execute_result"
    }
   ],
   "source": [
    "df[selected_columns].dtypes"
   ]
  },
  {
   "cell_type": "code",
   "execution_count": 87,
   "id": "d671a8c7",
   "metadata": {},
   "outputs": [],
   "source": [
    "df[selected_columns].to_csv('dataset_processed_v1.csv', index=False)"
   ]
  },
  {
   "cell_type": "code",
   "execution_count": null,
   "id": "b34dc90c",
   "metadata": {},
   "outputs": [],
   "source": []
  }
 ],
 "metadata": {
  "kernelspec": {
   "display_name": "Python 3 (ipykernel)",
   "language": "python",
   "name": "python3"
  },
  "language_info": {
   "codemirror_mode": {
    "name": "ipython",
    "version": 3
   },
   "file_extension": ".py",
   "mimetype": "text/x-python",
   "name": "python",
   "nbconvert_exporter": "python",
   "pygments_lexer": "ipython3",
   "version": "3.10.8"
  },
  "toc": {
   "base_numbering": 1,
   "nav_menu": {},
   "number_sections": true,
   "sideBar": true,
   "skip_h1_title": false,
   "title_cell": "Table of Contents",
   "title_sidebar": "Contents",
   "toc_cell": false,
   "toc_position": {
    "height": "calc(100% - 180px)",
    "left": "10px",
    "top": "150px",
    "width": "288px"
   },
   "toc_section_display": true,
   "toc_window_display": true
  }
 },
 "nbformat": 4,
 "nbformat_minor": 5
}
