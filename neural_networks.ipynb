{
 "cells": [
  {
   "cell_type": "code",
   "execution_count": 1,
   "id": "31bbe677",
   "metadata": {},
   "outputs": [],
   "source": [
    "import pandas as pd\n",
    "\n",
    "from datetime import datetime\n",
    "from sklearn.model_selection import train_test_split\n",
    "from sklearn.preprocessing import StandardScaler, OneHotEncoder\n",
    "from sklearn.impute import SimpleImputer\n",
    "from sklearn.pipeline import make_pipeline\n",
    "from sklearn.compose import make_column_transformer"
   ]
  },
  {
   "cell_type": "code",
   "execution_count": 2,
   "id": "ca2c7851",
   "metadata": {},
   "outputs": [],
   "source": [
    "from tensorflow import keras\n",
    "from tensorflow.keras import layers"
   ]
  },
  {
   "cell_type": "code",
   "execution_count": 3,
   "id": "e6ff33a9",
   "metadata": {},
   "outputs": [],
   "source": [
    "pd.set_option('display.max_rows', 500)\n",
    "pd.set_option('display.max_columns', 500)\n",
    "pd.set_option('display.width', 1000)"
   ]
  },
  {
   "cell_type": "code",
   "execution_count": 4,
   "id": "ca0665b6",
   "metadata": {},
   "outputs": [
    {
     "data": {
      "text/plain": [
       "(1286916, 27)"
      ]
     },
     "execution_count": 4,
     "metadata": {},
     "output_type": "execute_result"
    }
   ],
   "source": [
    "df = pd.read_csv('dataset_processed_v2.csv.zip')\n",
    "df.shape"
   ]
  },
  {
   "cell_type": "markdown",
   "id": "f37beb7d",
   "metadata": {},
   "source": [
    "# Merge TS Features"
   ]
  },
  {
   "cell_type": "code",
   "execution_count": 5,
   "id": "b2ed7405",
   "metadata": {
    "scrolled": true
   },
   "outputs": [],
   "source": [
    "event_level_fill_df = pd.read_csv('event_level_fill_rate.csv')\n",
    "df = df.merge(event_level_fill_df, on='event_date', how='left')\n",
    "\n",
    "seat_level_df = pd.read_csv('seat_level_lagged_isattended.csv.zip')\n",
    "df = df.merge(seat_level_df, on=['event_date', 'SeatUniqueID'], how='left')"
   ]
  },
  {
   "cell_type": "code",
   "execution_count": 6,
   "id": "13f19cc7",
   "metadata": {},
   "outputs": [],
   "source": [
    "target_variable = 'isAttended'\n",
    "\n",
    "numerical_features = ['Price', 'Tenure', 'event_sale_date_diff', 'sale_resale_date_diff', 'ResalePrice',\n",
    "                      'event_resale_date_diff', 'fill_rate_lag_1', 'fill_rate_lag_2', 'fill_rate_lag_3',]\n",
    "\n",
    "categorical_features = ['PC1', 'paid', 'status', 'isHost', 'TicketClass', 'Term', 'Season', 'Resold', 'isSTM',\n",
    "                       'acct_type_desc_processed', 'plan_event_name_processed', 'comp_name_processed',\n",
    "                        'class_name_processed', 'TicketType_processed', 'isAttended_lagg_1', 'isAttended_lagg_2',\n",
    "                        'isAttended_lagg_3', 'SeatType']"
   ]
  },
  {
   "cell_type": "code",
   "execution_count": 7,
   "id": "5eba3843",
   "metadata": {},
   "outputs": [
    {
     "name": "stdout",
     "output_type": "stream",
     "text": [
      "PC1 31\n",
      "paid 3\n",
      "status 4\n",
      "isHost 2\n",
      "TicketClass 5\n",
      "Term 5\n",
      "Season 2\n",
      "Resold 1\n",
      "isSTM 2\n",
      "acct_type_desc_processed 8\n",
      "plan_event_name_processed 3\n",
      "comp_name_processed 2\n",
      "class_name_processed 11\n",
      "TicketType_processed 11\n",
      "isAttended_lagg_1 2\n",
      "isAttended_lagg_2 2\n",
      "isAttended_lagg_3 2\n",
      "SeatType 2\n"
     ]
    }
   ],
   "source": [
    "for col in categorical_features:\n",
    "    df[col] = df[col].apply(lambda x: str(x) if pd.notna(x) else None)\n",
    "    print(col, df[col].nunique())"
   ]
  },
  {
   "cell_type": "code",
   "execution_count": 8,
   "id": "f5c4623d",
   "metadata": {},
   "outputs": [],
   "source": [
    "transformer_num = make_pipeline(\n",
    "    SimpleImputer(strategy=\"mean\"), # there are a few missing values\n",
    "    StandardScaler(),\n",
    ")\n",
    "\n",
    "transformer_cat = make_pipeline(\n",
    "    SimpleImputer(strategy=\"constant\", fill_value=\"NA\"),\n",
    "    OneHotEncoder(handle_unknown='ignore'),\n",
    ")\n",
    "\n",
    "preprocessor = make_column_transformer(\n",
    "    (transformer_num, numerical_features),\n",
    "    (transformer_cat, categorical_features),\n",
    ")"
   ]
  },
  {
   "cell_type": "code",
   "execution_count": 9,
   "id": "75624812",
   "metadata": {},
   "outputs": [],
   "source": [
    "train_df = df[df['isAttended'] != '???'].copy()\n",
    "test_df = df[df['isAttended'] == '???'].copy()"
   ]
  },
  {
   "cell_type": "code",
   "execution_count": 10,
   "id": "aa399c1e",
   "metadata": {},
   "outputs": [],
   "source": [
    "train_df['isAttended'] = train_df['isAttended'].replace({'Yes': 1, 'No': 0})"
   ]
  },
  {
   "cell_type": "code",
   "execution_count": 11,
   "id": "f5c9f1ff",
   "metadata": {},
   "outputs": [],
   "source": [
    "X = train_df[numerical_features + categorical_features]\n",
    "y = train_df[target_variable]"
   ]
  },
  {
   "cell_type": "code",
   "execution_count": 12,
   "id": "abd4fff7",
   "metadata": {
    "scrolled": false
   },
   "outputs": [],
   "source": [
    "# stratify - make sure classes are evenlly represented across splits\n",
    "X_train, X_valid, y_train, y_valid = train_test_split(X, y, stratify=y, train_size=0.75, random_state=99)\n",
    "\n",
    "X_train = preprocessor.fit_transform(X_train)\n",
    "X_valid = preprocessor.transform(X_valid)\n",
    "\n",
    "input_shape = [X_train.shape[1]]"
   ]
  },
  {
   "cell_type": "code",
   "execution_count": 13,
   "id": "c00cb889",
   "metadata": {},
   "outputs": [
    {
     "data": {
      "text/plain": [
       "<868671x116 sparse matrix of type '<class 'numpy.float64'>'\n",
       "\twith 23357629 stored elements in Compressed Sparse Row format>"
      ]
     },
     "execution_count": 13,
     "metadata": {},
     "output_type": "execute_result"
    }
   ],
   "source": [
    "X_train"
   ]
  },
  {
   "cell_type": "code",
   "execution_count": 16,
   "id": "fbb4556d",
   "metadata": {},
   "outputs": [],
   "source": [
    "X_train = X_train.toarray()\n",
    "X_valid = X_valid.toarray()"
   ]
  },
  {
   "cell_type": "code",
   "execution_count": 17,
   "id": "d71ef5ca",
   "metadata": {},
   "outputs": [],
   "source": [
    "from tensorflow import keras\n",
    "from tensorflow.keras import layers\n",
    "\n",
    "model = keras.Sequential([\n",
    "    layers.BatchNormalization(input_shape=input_shape),\n",
    "    layers.Dense(256, activation='relu'),\n",
    "    layers.BatchNormalization(),\n",
    "    layers.Dropout(0.3),\n",
    "    layers.Dense(256, activation='relu'),\n",
    "    layers.BatchNormalization(),\n",
    "    layers.Dropout(0.3),\n",
    "    layers.Dense(1, activation='sigmoid'),\n",
    "])"
   ]
  },
  {
   "cell_type": "code",
   "execution_count": 18,
   "id": "2c0e67a9",
   "metadata": {},
   "outputs": [],
   "source": [
    "model.compile(\n",
    "    optimizer='adam',\n",
    "    loss='binary_crossentropy',\n",
    "    metrics=['binary_accuracy'],\n",
    ")"
   ]
  },
  {
   "cell_type": "code",
   "execution_count": null,
   "id": "6dde5f79",
   "metadata": {},
   "outputs": [],
   "source": [
    "early_stopping = keras.callbacks.EarlyStopping(\n",
    "    patience=5,\n",
    "    min_delta=0.001,\n",
    "    restore_best_weights=True,\n",
    ")\n",
    "\n",
    "history = model.fit(\n",
    "    X_train, y_train,\n",
    "    validation_data=(X_valid, y_valid),\n",
    "    batch_size=512,\n",
    "    epochs=200,\n",
    "    callbacks=[early_stopping],\n",
    ")"
   ]
  },
  {
   "cell_type": "code",
   "execution_count": null,
   "id": "ff2c222b",
   "metadata": {},
   "outputs": [],
   "source": [
    "# history_df = pd.DataFrame(history.history)\n",
    "# history_df.loc[:, ['loss', 'val_loss']].plot(title=\"Cross-entropy\")\n",
    "# history_df.loc[:, ['binary_accuracy', 'val_binary_accuracy']].plot(title=\"Accuracy\")"
   ]
  }
 ],
 "metadata": {
  "kernelspec": {
   "display_name": "Python 3 (ipykernel)",
   "language": "python",
   "name": "python3"
  },
  "language_info": {
   "codemirror_mode": {
    "name": "ipython",
    "version": 3
   },
   "file_extension": ".py",
   "mimetype": "text/x-python",
   "name": "python",
   "nbconvert_exporter": "python",
   "pygments_lexer": "ipython3",
   "version": "3.9.13"
  }
 },
 "nbformat": 4,
 "nbformat_minor": 5
}
